{
 "cells": [
  {
   "cell_type": "markdown",
   "id": "c2055374",
   "metadata": {},
   "source": [
    "## Topic modelling: tests with the  Latent Dirichlet Allocation (LDA) algorithm.\n",
    "***\n",
    "\n",
    "### 1. Initialization of the R environment.\n",
    "***\n",
    "The first step is to load the required libraries. "
   ]
  },
  {
   "cell_type": "code",
   "execution_count": 1,
   "id": "8f3f9f9c",
   "metadata": {},
   "outputs": [
    {
     "name": "stderr",
     "output_type": "stream",
     "text": [
      "Loading required package: NLP\n",
      "\n",
      "\n",
      "Attaching package: 'ggplot2'\n",
      "\n",
      "\n",
      "The following object is masked from 'package:NLP':\n",
      "\n",
      "    annotate\n",
      "\n",
      "\n",
      "Loading required package: Matrix\n",
      "\n",
      "\n",
      "Attaching package: 'textmineR'\n",
      "\n",
      "\n",
      "The following object is masked from 'package:Matrix':\n",
      "\n",
      "    update\n",
      "\n",
      "\n",
      "The following object is masked from 'package:stats':\n",
      "\n",
      "    update\n",
      "\n",
      "\n",
      "\n",
      "Attaching package: 'dplyr'\n",
      "\n",
      "\n",
      "The following objects are masked from 'package:stats':\n",
      "\n",
      "    filter, lag\n",
      "\n",
      "\n",
      "The following objects are masked from 'package:base':\n",
      "\n",
      "    intersect, setdiff, setequal, union\n",
      "\n",
      "\n",
      "\n",
      "Attaching package: 'tidyr'\n",
      "\n",
      "\n",
      "The following objects are masked from 'package:Matrix':\n",
      "\n",
      "    expand, pack, unpack\n",
      "\n",
      "\n"
     ]
    }
   ],
   "source": [
    "rm(list=ls()) ## clear objects from memory\n",
    "\n",
    "options(warn = -1)\n",
    "\n",
    "## install.packages('repr')\n",
    "\n",
    "library(tm)\n",
    "library(ggplot2)\n",
    "library(textmineR)\n",
    "library(tidytext)\n",
    "library(dplyr)\n",
    "library(tidyr)\n",
    "library(repr)\n",
    "\n"
   ]
  },
  {
   "cell_type": "markdown",
   "id": "d6eb1a61",
   "metadata": {},
   "source": [
    "### 2. Data input.\n",
    "***\n",
    "\n",
    "We read two of the files extracted from the database, with the glossary articles definitions in _ESTAT_dat_concepts_2021_04_08.csv_ and their titles in _ESTAT_dat_link_info_2021_04_08.csv_. The common key is _id_. **At a later stage, the reading of the files will be directly from the KD**. \n",
    "\n",
    "We then drop articles with missing titles and/or definitions and also de-duplicate the records of the resulting file based on these two fields.\n",
    "\n"
   ]
  },
  {
   "cell_type": "code",
   "execution_count": 2,
   "id": "f369d0ba",
   "metadata": {},
   "outputs": [],
   "source": [
    "dat1 <- read.csv2('.//Data//ESTAT_dat_concepts_2021_04_08.csv')\n",
    "dat2 <- read.csv2('.//Data//ESTAT_dat_link_info_2021_04_08.csv')\n",
    "dat <- merge(dat1,dat2,by=c('id'),all=FALSE)\n",
    "dat <- dat[,c('title','definition')]\n",
    "\n",
    "dels <- which(is.na(dat$title))\n",
    "if(length(dels)>0) dat <- dat[-dels,]\n",
    "\n",
    "dels <- which(is.na(dat$definition))\n",
    "if(length(dels)>0) dat <- dat[-dels,]\n",
    "\n",
    "dels <-which(duplicated(dat$title))\n",
    "if(length(dels)>0) dat <- dat[-dels,]\n",
    "\n",
    "dels <- which(duplicated(dat$definition))\n",
    "if(length(dels)>0) dat <- dat[-dels,]\n",
    "\n",
    "rm(dat1,dat2)\n"
   ]
  },
  {
   "cell_type": "markdown",
   "id": "90724195",
   "metadata": {},
   "source": [
    "### 3. Data cleaning.\n",
    "***\n",
    "\n",
    "In the next step we do some data cleaning: \n",
    "\n",
    "* Replace multiple spaces with single ones in definitions.\n",
    "* Discard spaces at the start of definitions and titles. \n",
    "* Replace space-comma-space by comma-space in definitions.\n"
   ]
  },
  {
   "cell_type": "code",
   "execution_count": 3,
   "id": "c4bc6a3b",
   "metadata": {},
   "outputs": [],
   "source": [
    "dat$definition <- gsub(' +',' ',dat$definition) ## discard multiple spaces\n",
    "dat$definition <- gsub('^ +','',dat$definition) ## discard spaces at start\n",
    "dat$definition <- gsub(' \\\\, ','\\\\, ',dat$definition) ## space-comma-space -> comma-space\n",
    "\n",
    "dat$title <- gsub('^ +','',dat$title) ## discard spaces at start\n"
   ]
  },
  {
   "cell_type": "markdown",
   "id": "7ca4462b",
   "metadata": {},
   "source": [
    "### 4. Creating the Document-Term Matrix.\n",
    "***\n",
    "\n",
    "Next we create a document-term matrix (DTM) _texts_ from the articles. This has initially 1285 rows / text entries. When creating the DTM matrix, we apply some standard pre-processing steps:\n",
    "\n",
    "* Remove punctuation and numbers. \n",
    "* Convert all terms to lower case.\n",
    "* Remove stop words.\n",
    "* Strip whitespace and apply an English stemmer (Porter's stemmer).\n",
    "\n",
    "The initial number of terms is 5483. We then delete terms with length less than 5 and we keep terms which are in at least 2% and in at most 30% of the documents. We remove documents without terms and we end up with 1281 documents and 467 terms.\n"
   ]
  },
  {
   "cell_type": "code",
   "execution_count": 4,
   "id": "817b165f",
   "metadata": {},
   "outputs": [
    {
     "data": {
      "text/html": [
       "<style>\n",
       ".list-inline {list-style: none; margin:0; padding: 0}\n",
       ".list-inline>li {display: inline-block}\n",
       ".list-inline>li:not(:last-child)::after {content: \"\\00b7\"; padding: 0 .5ex}\n",
       "</style>\n",
       "<ol class=list-inline><li>1285</li><li>5483</li></ol>\n"
      ],
      "text/latex": [
       "\\begin{enumerate*}\n",
       "\\item 1285\n",
       "\\item 5483\n",
       "\\end{enumerate*}\n"
      ],
      "text/markdown": [
       "1. 1285\n",
       "2. 5483\n",
       "\n",
       "\n"
      ],
      "text/plain": [
       "[1] 1285 5483"
      ]
     },
     "metadata": {},
     "output_type": "display_data"
    },
    {
     "name": "stdout",
     "output_type": "stream",
     "text": [
      "docs =  1285  terms =  5483 \n"
     ]
    },
    {
     "data": {
      "text/html": [
       "<style>\n",
       ".list-inline {list-style: none; margin:0; padding: 0}\n",
       ".list-inline>li {display: inline-block}\n",
       ".list-inline>li:not(:last-child)::after {content: \"\\00b7\"; padding: 0 .5ex}\n",
       "</style>\n",
       "<ol class=list-inline><li>1281</li><li>467</li></ol>\n"
      ],
      "text/latex": [
       "\\begin{enumerate*}\n",
       "\\item 1281\n",
       "\\item 467\n",
       "\\end{enumerate*}\n"
      ],
      "text/markdown": [
       "1. 1281\n",
       "2. 467\n",
       "\n",
       "\n"
      ],
      "text/plain": [
       "[1] 1281  467"
      ]
     },
     "metadata": {},
     "output_type": "display_data"
    }
   ],
   "source": [
    "texts <- CreateDtm(dat$definition,doc_names=dat$title, ngram_window = c(1, 1),\n",
    "stopword_vec = c(stopwords::stopwords(\"en\"),\n",
    "stopwords::stopwords(source = \"smart\")), lower = TRUE,\n",
    "remove_punctuation = TRUE, remove_numbers = TRUE,\n",
    "stem_lemma_function =  function(x) SnowballC::wordStem(x, \"porter\"), verbose = TRUE)\n",
    "\n",
    "texts@Dim\n",
    "\n",
    "ndocs <- nrow(texts) ; nterms <- ncol(texts)\n",
    "cat('docs = ',ndocs,' terms = ',nterms, '\\n')\n",
    "\n",
    "## min word length: 5, each term in at least 2% of documents \n",
    "## and at most in 30% of documents\n",
    "dels <- which(nchar(texts@Dimnames[[2]]) < 5)\n",
    "if(length(dels)>0) texts <- texts[,-dels]\n",
    "\n",
    "dels <- which(colSums(texts) < 0.02*nrow(texts))\n",
    "if(length(dels)>0) texts <- texts[,-dels]\n",
    "dels <- which(colSums(texts) > 0.3*nrow(texts))\n",
    "if(length(dels)>0) texts <- texts[,-dels]\n",
    "\n",
    "dels <- which(rowSums(texts)==0) #remove all texts without terms \n",
    "              \n",
    "if(length(dels)>0) {\n",
    "  texts   <- texts[-dels, ]           \n",
    "  dat <- dat[-dels,]\n",
    "}\n",
    "\n",
    "texts@Dim\n"
   ]
  },
  {
   "cell_type": "markdown",
   "id": "093607d6",
   "metadata": {},
   "source": [
    "We apply the LDA algorithm with k=20 topics and a sufficient number of iterations (500) of the Gibbs sampler. We do not take into account the first 400 iterations in the results, in order to avoid transient values in the maximization of the log-likelihood (see plot in the next chunk).  \n",
    "\n",
    "Function _FitLdaModel()_ returns an object which contains, among others, a matrix _phi_ expressing, for each topic and term, the **probability that the term is generated from the specific topic**. For details, see [R package textmineR](https://cran.r-project.org/web/packages/textmineR/index.html). \n",
    "\n",
    "In the following code, we first group the results by topic and then select the terms with the top _phi_ values in each topic.Then we plot these values and the corresponding terms for each topic. _phi_ is renamed to _beta_ in these plots to keep the conventions in _tidytext_."
   ]
  },
  {
   "cell_type": "code",
   "execution_count": 5,
   "id": "95c21e8a",
   "metadata": {},
   "outputs": [
    {
     "data": {
      "image/png": "[encoded data removed]",
      "text/plain": [
       "plot without title"
      ]
     },
     "metadata": {
      "image/png": {
       "height": 360,
       "width": 480
      }
     },
     "output_type": "display_data"
    },
    {
     "data": {
      "image/png": "[encoded data removed]",
      "text/plain": [
       "plot without title"
      ]
     },
     "metadata": {
      "image/png": {
       "height": 360,
       "width": 480
      }
     },
     "output_type": "display_data"
    }
   ],
   "source": [
    "options(repr.plot.width=8, repr.plot.height=6)\n",
    "\n",
    "lda_model <- \n",
    "  FitLdaModel(texts, k=20, iterations = 500, burnin = 400, alpha = 0.1,\n",
    "beta = 0.05, optimize_alpha = TRUE, calc_likelihood = TRUE,\n",
    "calc_coherence = TRUE, calc_r2 = FALSE)\n",
    "\n",
    "#print(lda_model$log_likelihood)\n",
    "plot(lda_model$log_likelihood, type = \"l\")\n",
    "\n",
    "tidy_beta <- data.frame(topic = as.integer(stringr::str_replace_all(rownames(lda_model$phi), \"t_\", \"\")), \n",
    "                        lda_model$phi, stringsAsFactors = FALSE) %>%\n",
    "  gather(term, beta, -topic) %>% \n",
    "  tibble::as_tibble()\n",
    "\n",
    "  \n",
    "top_terms <- tidy_beta %>%\n",
    "  group_by(topic) %>%\n",
    "  slice_max(beta, n = 10) %>% \n",
    "  ungroup() %>%\n",
    "  arrange(topic, -beta)\n",
    "\n",
    "top_terms %>%\n",
    "  mutate(term = reorder_within(term, beta, topic)) %>%\n",
    "  ggplot(aes(beta, term, fill = factor(topic))) +\n",
    "  geom_col(show.legend = FALSE) +\n",
    "  facet_wrap(~ topic, scales = \"free\") +\n",
    "  scale_y_reordered()\n"
   ]
  },
  {
   "cell_type": "markdown",
   "id": "d7b3d38e",
   "metadata": {},
   "source": [
    "The results with the top 10 terms by topic can be interpreted as follows: \n",
    "\n",
    "* Topic 1: International trade.\n",
    "* Topic 2: ???\n",
    "* Topic 3: Public services.\n",
    "* Topic 4: Migration and asylum granting.\n",
    "* Topic 5: Diseases and morbidity.\n",
    "* Topic 6: Social expenditure and contributions.\n",
    "* Topic 7: Member states and treaties.\n",
    "* Topic 8: Household demographics.\n",
    "* Topic 9: Investments and financial flows.\n",
    "* Topic 10: Land and water resources.\n",
    "* Topic 11: Production, consumption and gross domestic product.\n",
    "* Topic 12: National development policies.\n",
    "* Topic 13: Technology, research and innovation.\n",
    "* Topic 14: Surveillance and information on individuals.\n",
    "* Topic 15: Transport. \n",
    "* Topic 16: Agriculture. \n",
    "* Topic 17: Price indices. \n",
    "* Topic 18: Enterprises. \n",
    "* Topic 19: Regions and territories, demographics and geography.  \n",
    "* Topic 20: Persons and employment.\n",
    "\n",
    "If these results are useful, the analysis will be extended to take into account the _gamma_ coefficients which express, for each document and topic, the **estimated proportion of terms from the document that are generated from that topic**.\n",
    "\n"
   ]
  },
  {
   "cell_type": "code",
   "execution_count": null,
   "id": "52d5a60e",
   "metadata": {},
   "outputs": [],
   "source": []
  }
 ],
 "metadata": {
  "kernelspec": {
   "display_name": "R",
   "language": "R",
   "name": "ir"
  },
  "language_info": {
   "codemirror_mode": "r",
   "file_extension": ".r",
   "mimetype": "text/x-r-source",
   "name": "R",
   "pygments_lexer": "r",
   "version": "4.0.2"
  }
 },
 "nbformat": 4,
 "nbformat_minor": 5
}
