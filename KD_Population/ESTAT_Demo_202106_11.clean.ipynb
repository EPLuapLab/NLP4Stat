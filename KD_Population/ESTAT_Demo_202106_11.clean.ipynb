{
 "cells": [
  {
   "cell_type": "markdown",
   "metadata": {},
   "source": [
    "# NLP4Stat - Query results from the Knowledge DB Demo"
   ]
  },
  {
   "cell_type": "markdown",
   "metadata": {},
   "source": [
    "11-06-2021"
   ]
  },
  {
   "cell_type": "markdown",
   "metadata": {},
   "source": [
    "Content of the notebook : \n",
    "- connection to the DB\n",
    "- get the SQL tables'names\n",
    "- load some of them from the content, get a title \n",
    "- KDB already populated (last demo), so just get some content from that\n",
    "- make a small query builder (screenshots 3.1), for glossary and articles "
   ]
  },
  {
   "cell_type": "markdown",
   "metadata": {},
   "source": [
    "## Library import and connections to the DB"
   ]
  },
  {
   "cell_type": "code",
   "execution_count": 9,
   "metadata": {},
   "outputs": [],
   "source": [
    "import os \n",
    "import re\n",
    "import logging\n",
    "import sys\n",
    "import pyodbc\n",
    "import hashlib\n",
    "import pandas as pd\n",
    "import numpy as np\n",
    "from datetime import datetime\n",
    "from SPARQLWrapper import SPARQLWrapper, POST, DIGEST, GET\n",
    "from SPARQLWrapper import JSON, INSERT, DELETE\n",
    "import sparql_dataframe"
   ]
  },
  {
   "cell_type": "code",
   "execution_count": 10,
   "metadata": {},
   "outputs": [],
   "source": [
    "def connect_db(DSN, DBA, UID, PWD):\n",
    "\n",
    "    connection = pyodbc.connect('DSN={};DBA={};UID={};PWD={}'.format(DSN, \n",
    "                                                                     DBA,\n",
    "                                                                     UID,\n",
    "                                                                     PWD))\n",
    "    cursor = connection.cursor()\n",
    "\n",
    "    return connection, cursor\n",
    "\n",
    "\n",
    "def connect_virtuoso(DSN, UID, PWD):\n",
    "\n",
    "    sparql = SPARQLWrapper(DSN)\n",
    "    sparql.setHTTPAuth(DIGEST)\n",
    "    sparql.setCredentials(UID, PWD)\n",
    "    sparql.setMethod(GET)\n",
    "\n",
    "    return sparql\n"
   ]
  },
  {
   "cell_type": "code",
   "execution_count": 11,
   "metadata": {},
   "outputs": [],
   "source": [
    "# Connection to CDB \n",
    "connection, cursor = connect_db('Virtuoso All', \n",
    "                                'ESTAT', \n",
    "                                'LOGIN', \n",
    "                                'PASSWORD')\n",
    "\n",
    "\n",
    "# Connection to the KDB \n",
    "endpoint = \"http://virtuoso-test.kapcode.fr:8890/sparql/\"\n",
    "sparql = connect_virtuoso(endpoint, \n",
    "                          'LOGIN', \n",
    "                          'PASSWORD')\n"
   ]
  },
  {
   "cell_type": "markdown",
   "metadata": {},
   "source": [
    "## Function definition for query to the Content DB, tables querying"
   ]
  },
  {
   "cell_type": "code",
   "execution_count": 12,
   "metadata": {},
   "outputs": [],
   "source": [
    "def select_query(columns, table, conditions=None): \n",
    "\n",
    "    if conditions:\n",
    "\n",
    "        query = \"\"\"\n",
    "\n",
    "            SELECT {}\n",
    "            FROM {}\n",
    "            WHERE {}\n",
    "\n",
    "        \"\"\".format(columns, table, conditions)\n",
    "\n",
    "    else:\n",
    "\n",
    "        query = \"\"\"\n",
    "        SELECT {}\n",
    "        FROM {}\n",
    "        \"\"\".format(columns, table)\n",
    "\n",
    "    return query\n"
   ]
  },
  {
   "cell_type": "markdown",
   "metadata": {},
   "source": [
    "#### Get all tables name from the CDB "
   ]
  },
  {
   "cell_type": "code",
   "execution_count": 13,
   "metadata": {},
   "outputs": [
    {
     "data": {
      "text/plain": [
       "0                  dat_3_grams\n",
       "1                  dat_4_grams\n",
       "2          dat_4_grams_pickled\n",
       "3                  dat_article\n",
       "4        dat_article_paragraph\n",
       "5      dat_article_shared_link\n",
       "6             dat_further_info\n",
       "7                 dat_glossary\n",
       "8                dat_link_info\n",
       "9                  dat_link_tm\n",
       "10        dat_paragraph_figure\n",
       "11            dat_redirections\n",
       "12        dat_related_concepts\n",
       "13                 dat_sources\n",
       "14        dat_statistical_data\n",
       "15              dat_tm_results\n",
       "16        dat_tm_results_words\n",
       "17        mod_article_division\n",
       "18    mod_resource_information\n",
       "19           mod_resource_type\n",
       "20            mod_topic_models\n",
       "Name: TABLE_NAME, dtype: object"
      ]
     },
     "execution_count": 13,
     "metadata": {},
     "output_type": "execute_result"
    }
   ],
   "source": [
    "ESTAT_V1_tables_names = pd.read_sql(select_query('*',\n",
    "                                          'ESTAT.information_schema.tables', \n",
    "                                          ''), \n",
    "                             connection)\n",
    "ESTAT_V1_tables_names['TABLE_NAME']"
   ]
  },
  {
   "cell_type": "markdown",
   "metadata": {},
   "source": [
    "#### Get tables from the CDB "
   ]
  },
  {
   "cell_type": "code",
   "execution_count": 14,
   "metadata": {},
   "outputs": [
    {
     "name": "stdout",
     "output_type": "stream",
     "text": [
      "(6373, 5)\n",
      "(1311, 6)\n",
      "(506, 6)\n"
     ]
    }
   ],
   "source": [
    "#Load dat_link_info \n",
    "ESTAT_V1_dat_link_info = pd.read_sql(select_query('*',\n",
    "                                          'ESTAT.V1.dat_link_info', \n",
    "                                          ''), \n",
    "                             connection)\n",
    "print(ESTAT_V1_dat_link_info.shape)\n",
    "#Load dat_glossary\n",
    "ESTAT_V1_dat_glossary = pd.read_sql(select_query('*',\n",
    "                                          'ESTAT.V1.dat_glossary', \n",
    "                                          ''), \n",
    "                             connection)\n",
    "\n",
    "print(ESTAT_V1_dat_glossary.shape)\n",
    "#Load dat_articles \n",
    "ESTAT_V1_dat_articles = pd.read_sql(select_query('*',\n",
    "                                          'ESTAT.V1.dat_article', \n",
    "                                          ''), \n",
    "                             connection)\n",
    "print(ESTAT_V1_dat_articles.shape)\n"
   ]
  },
  {
   "cell_type": "code",
   "execution_count": 15,
   "metadata": {},
   "outputs": [
    {
     "data": {
      "text/html": [
       "<div>\n",
       "<style scoped>\n",
       "    .dataframe tbody tr th:only-of-type {\n",
       "        vertical-align: middle;\n",
       "    }\n",
       "\n",
       "    .dataframe tbody tr th {\n",
       "        vertical-align: top;\n",
       "    }\n",
       "\n",
       "    .dataframe thead th {\n",
       "        text-align: right;\n",
       "    }\n",
       "</style>\n",
       "<table border=\"1\" class=\"dataframe\">\n",
       "  <thead>\n",
       "    <tr style=\"text-align: right;\">\n",
       "      <th></th>\n",
       "      <th>id</th>\n",
       "      <th>title</th>\n",
       "      <th>url</th>\n",
       "      <th>resource_information_id</th>\n",
       "      <th>resource_type_id</th>\n",
       "    </tr>\n",
       "  </thead>\n",
       "  <tbody>\n",
       "    <tr>\n",
       "      <th>0</th>\n",
       "      <td>1</td>\n",
       "      <td>Accidents to persons caused by rolling...</td>\n",
       "      <td>https://ec.europa.eu/eurostat/statistics-expla...</td>\n",
       "      <td>1</td>\n",
       "      <td>None</td>\n",
       "    </tr>\n",
       "    <tr>\n",
       "      <th>1</th>\n",
       "      <td>2</td>\n",
       "      <td>Railway</td>\n",
       "      <td>https://ec.europa.eu/eurostat/statistics-expla...</td>\n",
       "      <td>1</td>\n",
       "      <td>None</td>\n",
       "    </tr>\n",
       "    <tr>\n",
       "      <th>2</th>\n",
       "      <td>3</td>\n",
       "      <td>Railway safety statistics in the EU</td>\n",
       "      <td>https://ec.europa.eu/eurostat/statistics-expla...</td>\n",
       "      <td>1</td>\n",
       "      <td>None</td>\n",
       "    </tr>\n",
       "    <tr>\n",
       "      <th>3</th>\n",
       "      <td>4</td>\n",
       "      <td>Railway freight transport statistics</td>\n",
       "      <td>https://ec.europa.eu/eurostat/statistics-expla...</td>\n",
       "      <td>1</td>\n",
       "      <td>None</td>\n",
       "    </tr>\n",
       "    <tr>\n",
       "      <th>4</th>\n",
       "      <td>5</td>\n",
       "      <td>Railway passenger transport statistics - quart...</td>\n",
       "      <td>https://ec.europa.eu/eurostat/statistics-expla...</td>\n",
       "      <td>1</td>\n",
       "      <td>None</td>\n",
       "    </tr>\n",
       "  </tbody>\n",
       "</table>\n",
       "</div>"
      ],
      "text/plain": [
       "   id                                              title  \\\n",
       "0   1          Accidents to persons caused by rolling...   \n",
       "1   2                                         Railway      \n",
       "2   3                Railway safety statistics in the EU   \n",
       "3   4               Railway freight transport statistics   \n",
       "4   5  Railway passenger transport statistics - quart...   \n",
       "\n",
       "                                                 url  resource_information_id  \\\n",
       "0  https://ec.europa.eu/eurostat/statistics-expla...                        1   \n",
       "1  https://ec.europa.eu/eurostat/statistics-expla...                        1   \n",
       "2  https://ec.europa.eu/eurostat/statistics-expla...                        1   \n",
       "3  https://ec.europa.eu/eurostat/statistics-expla...                        1   \n",
       "4  https://ec.europa.eu/eurostat/statistics-expla...                        1   \n",
       "\n",
       "  resource_type_id  \n",
       "0             None  \n",
       "1             None  \n",
       "2             None  \n",
       "3             None  \n",
       "4             None  "
      ]
     },
     "execution_count": 15,
     "metadata": {},
     "output_type": "execute_result"
    }
   ],
   "source": [
    "ESTAT_V1_dat_link_info.head()"
   ]
  },
  {
   "cell_type": "code",
   "execution_count": 16,
   "metadata": {
    "collapsed": true
   },
   "outputs": [
    {
     "ename": "DatabaseError",
     "evalue": "Execution failed on sql '\n        SELECT *\n        FROM ESTAT.V1.dat_XXXX\n        ': ('42S02', '[42S02] [OpenLink][Virtuoso ODBC Driver][Virtuoso Server]SQ074: Line 4: No table ESTAT.V1.dat_XXXX in * reference (-1) (SQLExecDirectW)')",
     "output_type": "error",
     "traceback": [
      "\u001b[1;31m---------------------------------------------------------------------------\u001b[0m",
      "\u001b[1;31mProgrammingError\u001b[0m                          Traceback (most recent call last)",
      "\u001b[1;32mC:\\ProgramData\\Anaconda3\\lib\\site-packages\\pandas\\io\\sql.py\u001b[0m in \u001b[0;36mexecute\u001b[1;34m(self, *args, **kwargs)\u001b[0m\n\u001b[0;32m   1585\u001b[0m         \u001b[1;32mtry\u001b[0m\u001b[1;33m:\u001b[0m\u001b[1;33m\u001b[0m\u001b[1;33m\u001b[0m\u001b[0m\n\u001b[1;32m-> 1586\u001b[1;33m             \u001b[0mcur\u001b[0m\u001b[1;33m.\u001b[0m\u001b[0mexecute\u001b[0m\u001b[1;33m(\u001b[0m\u001b[1;33m*\u001b[0m\u001b[0margs\u001b[0m\u001b[1;33m,\u001b[0m \u001b[1;33m**\u001b[0m\u001b[0mkwargs\u001b[0m\u001b[1;33m)\u001b[0m\u001b[1;33m\u001b[0m\u001b[1;33m\u001b[0m\u001b[0m\n\u001b[0m\u001b[0;32m   1587\u001b[0m             \u001b[1;32mreturn\u001b[0m \u001b[0mcur\u001b[0m\u001b[1;33m\u001b[0m\u001b[1;33m\u001b[0m\u001b[0m\n",
      "\u001b[1;31mProgrammingError\u001b[0m: ('42S02', '[42S02] [OpenLink][Virtuoso ODBC Driver][Virtuoso Server]SQ074: Line 4: No table ESTAT.V1.dat_XXXX in * reference (-1) (SQLExecDirectW)')",
      "\nThe above exception was the direct cause of the following exception:\n",
      "\u001b[1;31mDatabaseError\u001b[0m                             Traceback (most recent call last)",
      "\u001b[1;32m<ipython-input-16-f671b343cf40>\u001b[0m in \u001b[0;36m<module>\u001b[1;34m\u001b[0m\n\u001b[0;32m      1\u001b[0m \u001b[1;31m#Load another table :\u001b[0m\u001b[1;33m\u001b[0m\u001b[1;33m\u001b[0m\u001b[1;33m\u001b[0m\u001b[0m\n\u001b[1;32m----> 2\u001b[1;33m estat_table = pd.read_sql(select_query('*',\n\u001b[0m\u001b[0;32m      3\u001b[0m                                           \u001b[1;34m'ESTAT.V1.dat_XXXX'\u001b[0m\u001b[1;33m,\u001b[0m\u001b[1;33m\u001b[0m\u001b[1;33m\u001b[0m\u001b[0m\n\u001b[0;32m      4\u001b[0m                                           ''), \n\u001b[0;32m      5\u001b[0m                              connection)\n",
      "\u001b[1;32mC:\\ProgramData\\Anaconda3\\lib\\site-packages\\pandas\\io\\sql.py\u001b[0m in \u001b[0;36mread_sql\u001b[1;34m(sql, con, index_col, coerce_float, params, parse_dates, columns, chunksize)\u001b[0m\n\u001b[0;32m    404\u001b[0m \u001b[1;33m\u001b[0m\u001b[0m\n\u001b[0;32m    405\u001b[0m     \u001b[1;32mif\u001b[0m \u001b[0misinstance\u001b[0m\u001b[1;33m(\u001b[0m\u001b[0mpandas_sql\u001b[0m\u001b[1;33m,\u001b[0m \u001b[0mSQLiteDatabase\u001b[0m\u001b[1;33m)\u001b[0m\u001b[1;33m:\u001b[0m\u001b[1;33m\u001b[0m\u001b[1;33m\u001b[0m\u001b[0m\n\u001b[1;32m--> 406\u001b[1;33m         return pandas_sql.read_query(\n\u001b[0m\u001b[0;32m    407\u001b[0m             \u001b[0msql\u001b[0m\u001b[1;33m,\u001b[0m\u001b[1;33m\u001b[0m\u001b[1;33m\u001b[0m\u001b[0m\n\u001b[0;32m    408\u001b[0m             \u001b[0mindex_col\u001b[0m\u001b[1;33m=\u001b[0m\u001b[0mindex_col\u001b[0m\u001b[1;33m,\u001b[0m\u001b[1;33m\u001b[0m\u001b[1;33m\u001b[0m\u001b[0m\n",
      "\u001b[1;32mC:\\ProgramData\\Anaconda3\\lib\\site-packages\\pandas\\io\\sql.py\u001b[0m in \u001b[0;36mread_query\u001b[1;34m(self, sql, index_col, coerce_float, params, parse_dates, chunksize)\u001b[0m\n\u001b[0;32m   1631\u001b[0m \u001b[1;33m\u001b[0m\u001b[0m\n\u001b[0;32m   1632\u001b[0m         \u001b[0margs\u001b[0m \u001b[1;33m=\u001b[0m \u001b[0m_convert_params\u001b[0m\u001b[1;33m(\u001b[0m\u001b[0msql\u001b[0m\u001b[1;33m,\u001b[0m \u001b[0mparams\u001b[0m\u001b[1;33m)\u001b[0m\u001b[1;33m\u001b[0m\u001b[1;33m\u001b[0m\u001b[0m\n\u001b[1;32m-> 1633\u001b[1;33m         \u001b[0mcursor\u001b[0m \u001b[1;33m=\u001b[0m \u001b[0mself\u001b[0m\u001b[1;33m.\u001b[0m\u001b[0mexecute\u001b[0m\u001b[1;33m(\u001b[0m\u001b[1;33m*\u001b[0m\u001b[0margs\u001b[0m\u001b[1;33m)\u001b[0m\u001b[1;33m\u001b[0m\u001b[1;33m\u001b[0m\u001b[0m\n\u001b[0m\u001b[0;32m   1634\u001b[0m         \u001b[0mcolumns\u001b[0m \u001b[1;33m=\u001b[0m \u001b[1;33m[\u001b[0m\u001b[0mcol_desc\u001b[0m\u001b[1;33m[\u001b[0m\u001b[1;36m0\u001b[0m\u001b[1;33m]\u001b[0m \u001b[1;32mfor\u001b[0m \u001b[0mcol_desc\u001b[0m \u001b[1;32min\u001b[0m \u001b[0mcursor\u001b[0m\u001b[1;33m.\u001b[0m\u001b[0mdescription\u001b[0m\u001b[1;33m]\u001b[0m\u001b[1;33m\u001b[0m\u001b[1;33m\u001b[0m\u001b[0m\n\u001b[0;32m   1635\u001b[0m \u001b[1;33m\u001b[0m\u001b[0m\n",
      "\u001b[1;32mC:\\ProgramData\\Anaconda3\\lib\\site-packages\\pandas\\io\\sql.py\u001b[0m in \u001b[0;36mexecute\u001b[1;34m(self, *args, **kwargs)\u001b[0m\n\u001b[0;32m   1596\u001b[0m \u001b[1;33m\u001b[0m\u001b[0m\n\u001b[0;32m   1597\u001b[0m             \u001b[0mex\u001b[0m \u001b[1;33m=\u001b[0m \u001b[0mDatabaseError\u001b[0m\u001b[1;33m(\u001b[0m\u001b[1;34mf\"Execution failed on sql '{args[0]}': {exc}\"\u001b[0m\u001b[1;33m)\u001b[0m\u001b[1;33m\u001b[0m\u001b[1;33m\u001b[0m\u001b[0m\n\u001b[1;32m-> 1598\u001b[1;33m             \u001b[1;32mraise\u001b[0m \u001b[0mex\u001b[0m \u001b[1;32mfrom\u001b[0m \u001b[0mexc\u001b[0m\u001b[1;33m\u001b[0m\u001b[1;33m\u001b[0m\u001b[0m\n\u001b[0m\u001b[0;32m   1599\u001b[0m \u001b[1;33m\u001b[0m\u001b[0m\n\u001b[0;32m   1600\u001b[0m     \u001b[1;33m@\u001b[0m\u001b[0mstaticmethod\u001b[0m\u001b[1;33m\u001b[0m\u001b[1;33m\u001b[0m\u001b[0m\n",
      "\u001b[1;31mDatabaseError\u001b[0m: Execution failed on sql '\n        SELECT *\n        FROM ESTAT.V1.dat_XXXX\n        ': ('42S02', '[42S02] [OpenLink][Virtuoso ODBC Driver][Virtuoso Server]SQ074: Line 4: No table ESTAT.V1.dat_XXXX in * reference (-1) (SQLExecDirectW)')"
     ]
    }
   ],
   "source": [
    "#Load another table : \n",
    "estat_table = pd.read_sql(select_query('*',\n",
    "                                          'ESTAT.V1.dat_XXXX', \n",
    "                                          ''), \n",
    "                             connection)\n",
    "print(estat_table.shape)\n",
    "estat_table.head()"
   ]
  },
  {
   "cell_type": "code",
   "execution_count": 17,
   "metadata": {},
   "outputs": [
    {
     "data": {
      "text/html": [
       "<div>\n",
       "<style scoped>\n",
       "    .dataframe tbody tr th:only-of-type {\n",
       "        vertical-align: middle;\n",
       "    }\n",
       "\n",
       "    .dataframe tbody tr th {\n",
       "        vertical-align: top;\n",
       "    }\n",
       "\n",
       "    .dataframe thead th {\n",
       "        text-align: right;\n",
       "    }\n",
       "</style>\n",
       "<table border=\"1\" class=\"dataframe\">\n",
       "  <thead>\n",
       "    <tr style=\"text-align: right;\">\n",
       "      <th></th>\n",
       "      <th>id</th>\n",
       "      <th>definition</th>\n",
       "      <th>redirection</th>\n",
       "      <th>original_title</th>\n",
       "      <th>homepage</th>\n",
       "      <th>last_update</th>\n",
       "    </tr>\n",
       "  </thead>\n",
       "  <tbody>\n",
       "    <tr>\n",
       "      <th>0</th>\n",
       "      <td>1</td>\n",
       "      <td>Accidents to one or more persons that are ei...</td>\n",
       "      <td>0</td>\n",
       "      <td>None</td>\n",
       "      <td>0</td>\n",
       "      <td>2021-02-03 15:06:00</td>\n",
       "    </tr>\n",
       "    <tr>\n",
       "      <th>1</th>\n",
       "      <td>2</td>\n",
       "      <td>A     railway    is a line of communication ...</td>\n",
       "      <td>0</td>\n",
       "      <td>None</td>\n",
       "      <td>0</td>\n",
       "      <td>2013-02-28 10:16:00</td>\n",
       "    </tr>\n",
       "    <tr>\n",
       "      <th>2</th>\n",
       "      <td>6</td>\n",
       "      <td>An     accident at work    in the framework ...</td>\n",
       "      <td>0</td>\n",
       "      <td>None</td>\n",
       "      <td>0</td>\n",
       "      <td>2021-03-10 11:13:00</td>\n",
       "    </tr>\n",
       "    <tr>\n",
       "      <th>3</th>\n",
       "      <td>10</td>\n",
       "      <td>A     fatal accident at work    refers to an...</td>\n",
       "      <td>0</td>\n",
       "      <td>None</td>\n",
       "      <td>0</td>\n",
       "      <td>2019-03-06 12:08:00</td>\n",
       "    </tr>\n",
       "    <tr>\n",
       "      <th>4</th>\n",
       "      <td>11</td>\n",
       "      <td>A     non-fatal      accident at work     is...</td>\n",
       "      <td>0</td>\n",
       "      <td>None</td>\n",
       "      <td>0</td>\n",
       "      <td>2018-09-12 15:42:00</td>\n",
       "    </tr>\n",
       "  </tbody>\n",
       "</table>\n",
       "</div>"
      ],
      "text/plain": [
       "   id                                         definition  redirection  \\\n",
       "0   1    Accidents to one or more persons that are ei...            0   \n",
       "1   2    A     railway    is a line of communication ...            0   \n",
       "2   6    An     accident at work    in the framework ...            0   \n",
       "3  10    A     fatal accident at work    refers to an...            0   \n",
       "4  11    A     non-fatal      accident at work     is...            0   \n",
       "\n",
       "  original_title  homepage         last_update  \n",
       "0           None         0 2021-02-03 15:06:00  \n",
       "1           None         0 2013-02-28 10:16:00  \n",
       "2           None         0 2021-03-10 11:13:00  \n",
       "3           None         0 2019-03-06 12:08:00  \n",
       "4           None         0 2018-09-12 15:42:00  "
      ]
     },
     "execution_count": 17,
     "metadata": {},
     "output_type": "execute_result"
    }
   ],
   "source": [
    "ESTAT_V1_dat_glossary.head()"
   ]
  },
  {
   "cell_type": "markdown",
   "metadata": {},
   "source": [
    "## Querying the populated KDB "
   ]
  },
  {
   "cell_type": "markdown",
   "metadata": {},
   "source": [
    "#### Get all descriptions from the KDB "
   ]
  },
  {
   "cell_type": "code",
   "execution_count": 147,
   "metadata": {
    "scrolled": true
   },
   "outputs": [
    {
     "name": "stdout",
     "output_type": "stream",
     "text": [
      "(1309, 2)\n"
     ]
    },
    {
     "data": {
      "text/html": [
       "<div>\n",
       "<style scoped>\n",
       "    .dataframe tbody tr th:only-of-type {\n",
       "        vertical-align: middle;\n",
       "    }\n",
       "\n",
       "    .dataframe tbody tr th {\n",
       "        vertical-align: top;\n",
       "    }\n",
       "\n",
       "    .dataframe thead th {\n",
       "        text-align: right;\n",
       "    }\n",
       "</style>\n",
       "<table border=\"1\" class=\"dataframe\">\n",
       "  <thead>\n",
       "    <tr style=\"text-align: right;\">\n",
       "      <th></th>\n",
       "      <th>s</th>\n",
       "      <th>o</th>\n",
       "    </tr>\n",
       "  </thead>\n",
       "  <tbody>\n",
       "    <tr>\n",
       "      <th>1304</th>\n",
       "      <td>https://ec.europa.eu/eurostat/resource/ontolog...</td>\n",
       "      <td>An     airport    is a defined area of land or...</td>\n",
       "    </tr>\n",
       "    <tr>\n",
       "      <th>1305</th>\n",
       "      <td>https://ec.europa.eu/eurostat/resource/ontolog...</td>\n",
       "      <td>Adult education is specifically targeted at in...</td>\n",
       "    </tr>\n",
       "    <tr>\n",
       "      <th>1306</th>\n",
       "      <td>https://ec.europa.eu/eurostat/resource/ontolog...</td>\n",
       "      <td>Actual individual consumption    , abbreviated...</td>\n",
       "    </tr>\n",
       "    <tr>\n",
       "      <th>1307</th>\n",
       "      <td>https://ec.europa.eu/eurostat/resource/ontolog...</td>\n",
       "      <td>&lt;Brief user-oriented definition, one or a few ...</td>\n",
       "    </tr>\n",
       "    <tr>\n",
       "      <th>1308</th>\n",
       "      <td>https://ec.europa.eu/eurostat/resource/ontolog...</td>\n",
       "      <td>Activity rate    is the percentage of     acti...</td>\n",
       "    </tr>\n",
       "  </tbody>\n",
       "</table>\n",
       "</div>"
      ],
      "text/plain": [
       "                                                      s  \\\n",
       "1304  https://ec.europa.eu/eurostat/resource/ontolog...   \n",
       "1305  https://ec.europa.eu/eurostat/resource/ontolog...   \n",
       "1306  https://ec.europa.eu/eurostat/resource/ontolog...   \n",
       "1307  https://ec.europa.eu/eurostat/resource/ontolog...   \n",
       "1308  https://ec.europa.eu/eurostat/resource/ontolog...   \n",
       "\n",
       "                                                      o  \n",
       "1304  An     airport    is a defined area of land or...  \n",
       "1305  Adult education is specifically targeted at in...  \n",
       "1306  Actual individual consumption    , abbreviated...  \n",
       "1307  <Brief user-oriented definition, one or a few ...  \n",
       "1308  Activity rate    is the percentage of     acti...  "
      ]
     },
     "execution_count": 147,
     "metadata": {},
     "output_type": "execute_result"
    }
   ],
   "source": [
    "SelectMatchedElements = \"\"\"\n",
    "PREFIX dct: <http://purl.org/dc/terms/>\n",
    "PREFIX rdf: <http://www.w3.org/1999/02/22-rdf-syntax-ns#> \n",
    "PREFIX skos: <http://www.w3.org/2004/02/skos/core#>\n",
    "\n",
    "SELECT * FROM <https://ec.europa.eu/eurostat/resource/ontology/>\n",
    "WHERE {\n",
    " ?s dct:description ?o \n",
    "}\n",
    "\"\"\"\n",
    "\n",
    "elements_df = sparql_dataframe.get(endpoint, SelectMatchedElements)\n",
    "print(elements_df.shape)\n",
    "elements_df.tail()"
   ]
  },
  {
   "cell_type": "code",
   "execution_count": 149,
   "metadata": {},
   "outputs": [
    {
     "data": {
      "text/plain": [
       "'https://ec.europa.eu/eurostat/resource/ontology/2311'"
      ]
     },
     "execution_count": 149,
     "metadata": {},
     "output_type": "execute_result"
    }
   ],
   "source": [
    "elements_df.iloc[1306,0]"
   ]
  },
  {
   "cell_type": "code",
   "execution_count": 150,
   "metadata": {},
   "outputs": [
    {
     "data": {
      "text/plain": [
       "'Actual individual consumption    , abbreviated as     AIC    , refers to all goods and services actually consumed by     households    . It encompasses consumer goods and services purchased directly by households, as well as services provided by     non-profit institutions    and the     government    for individual consumption (e.g., health and education services). In international comparisons, the term is usually preferred over the narrower concept of household consumption, because the latter is influenced by the extent to which non-profit institutions and general government act as service providers.    Although     GDP     per capita    is an important and widely used indicator of countriesâ\\x80\\x99 level of economic welfare, consumption per capita may be more useful for comparing the relative welfare of consumers across various countries.    AIC per capita is usually highly correlated with GDP per capita, because AIC is, in practice, by far the biggest expenditure component of GDP.'"
      ]
     },
     "execution_count": 150,
     "metadata": {},
     "output_type": "execute_result"
    }
   ],
   "source": [
    "elements_df.iloc[1306,1]"
   ]
  },
  {
   "cell_type": "markdown",
   "metadata": {},
   "source": [
    "## Get random glossary entry and its title : "
   ]
  },
  {
   "cell_type": "markdown",
   "metadata": {},
   "source": [
    "#### Extract a random entry of the glossary table"
   ]
  },
  {
   "cell_type": "code",
   "execution_count": 151,
   "metadata": {},
   "outputs": [],
   "source": [
    "random_entry = ESTAT_V1_dat_glossary.loc[np.random.choice(np.arange(len(ESTAT_V1_dat_glossary)), 10, False),\n",
    "                                   ('id','definition')].iloc[2,0]"
   ]
  },
  {
   "cell_type": "code",
   "execution_count": 152,
   "metadata": {},
   "outputs": [
    {
     "data": {
      "text/plain": [
       "1678"
      ]
     },
     "execution_count": 152,
     "metadata": {},
     "output_type": "execute_result"
    }
   ],
   "source": [
    "random_entry"
   ]
  },
  {
   "cell_type": "code",
   "execution_count": 153,
   "metadata": {},
   "outputs": [
    {
     "name": "stdout",
     "output_type": "stream",
     "text": [
      "        Income quintile group      \n"
     ]
    },
    {
     "data": {
      "text/plain": [
       "'  In social statistics,     income quintile groups    are computed on the basis of the total     equivalised disposable income    attributed to each member of the     household    .    The data (of each person) are ordered according to the value of the total equivalised disposable income. Four cut-point values (the so-called     quintile cut-off points    ) of income are identified, dividing the survey population into five groups equally represented by 20 % of individuals each:    first quintile group of equivalised income;     second quintile group of equivalised income;     third quintile group of equivalised income;     fourth quintile group of equivalised income;     fifth quintile group of equivalised income.    The first quintile group represents 20 % of the population with the lowest income (an income smaller or equal to the first cut-off value), and the fifth quintile group represents the 20 % of population with the highest income (an income greater than the fourth cut-off value).  '"
      ]
     },
     "execution_count": 153,
     "metadata": {},
     "output_type": "execute_result"
    }
   ],
   "source": [
    "print(ESTAT_V1_dat_link_info.loc[ESTAT_V1_dat_link_info['id'] == random_entry].iloc[0,1])\n",
    "ESTAT_V1_dat_glossary.loc[ESTAT_V1_dat_glossary['id'] == random_entry].iloc[0,1]"
   ]
  },
  {
   "cell_type": "markdown",
   "metadata": {},
   "source": [
    "#### Get all elements related to this concept from the KDB : "
   ]
  },
  {
   "cell_type": "code",
   "execution_count": 154,
   "metadata": {
    "scrolled": true
   },
   "outputs": [
    {
     "name": "stdout",
     "output_type": "stream",
     "text": [
      "(10, 2)\n"
     ]
    },
    {
     "data": {
      "text/html": [
       "<div>\n",
       "<style scoped>\n",
       "    .dataframe tbody tr th:only-of-type {\n",
       "        vertical-align: middle;\n",
       "    }\n",
       "\n",
       "    .dataframe tbody tr th {\n",
       "        vertical-align: top;\n",
       "    }\n",
       "\n",
       "    .dataframe thead th {\n",
       "        text-align: right;\n",
       "    }\n",
       "</style>\n",
       "<table border=\"1\" class=\"dataframe\">\n",
       "  <thead>\n",
       "    <tr style=\"text-align: right;\">\n",
       "      <th></th>\n",
       "      <th>s</th>\n",
       "      <th>o</th>\n",
       "    </tr>\n",
       "  </thead>\n",
       "  <tbody>\n",
       "    <tr>\n",
       "      <th>5</th>\n",
       "      <td>http://purl.org/dc/terms/type</td>\n",
       "      <td>None</td>\n",
       "    </tr>\n",
       "    <tr>\n",
       "      <th>6</th>\n",
       "      <td>http://www.w3.org/2004/02/skos/core#concept</td>\n",
       "      <td>1678</td>\n",
       "    </tr>\n",
       "    <tr>\n",
       "      <th>7</th>\n",
       "      <td>http://purl.org/dc/terms/description</td>\n",
       "      <td>In social statistics,     income quintile grou...</td>\n",
       "    </tr>\n",
       "    <tr>\n",
       "      <th>8</th>\n",
       "      <td>http://www.w3.org/2004/02/skos/core#altLabel</td>\n",
       "      <td>None</td>\n",
       "    </tr>\n",
       "    <tr>\n",
       "      <th>9</th>\n",
       "      <td>http://www.w3.org/2004/02/skos/core#prefLabel</td>\n",
       "      <td>Income quintile group</td>\n",
       "    </tr>\n",
       "  </tbody>\n",
       "</table>\n",
       "</div>"
      ],
      "text/plain": [
       "                                               s  \\\n",
       "5                  http://purl.org/dc/terms/type   \n",
       "6    http://www.w3.org/2004/02/skos/core#concept   \n",
       "7           http://purl.org/dc/terms/description   \n",
       "8   http://www.w3.org/2004/02/skos/core#altLabel   \n",
       "9  http://www.w3.org/2004/02/skos/core#prefLabel   \n",
       "\n",
       "                                                   o  \n",
       "5                                               None  \n",
       "6                                               1678  \n",
       "7  In social statistics,     income quintile grou...  \n",
       "8                                               None  \n",
       "9                        Income quintile group        "
      ]
     },
     "execution_count": 154,
     "metadata": {},
     "output_type": "execute_result"
    }
   ],
   "source": [
    "\n",
    "SelectStatement = \"\"\"\n",
    "PREFIX estat: <https://ec.europa.eu/eurostat/resource/ontology/> \n",
    "PREFIX dct: <http://purl.org/dc/terms/>\n",
    "PREFIX skos: <http://www.w3.org/2004/02/skos/core#>\n",
    "\n",
    "SELECT * FROM <https://ec.europa.eu/eurostat/resource/ontology/>\n",
    "WHERE {\n",
    "estat:\"\"\" + str(random_entry) +\"\"\" ?s ?o \n",
    "}\n",
    "\n",
    "\"\"\"\n",
    "\n",
    "statements_df = sparql_dataframe.get(endpoint, SelectStatement)\n",
    "print(statements_df.shape)\n",
    "statements_df.tail()\n"
   ]
  },
  {
   "cell_type": "markdown",
   "metadata": {},
   "source": [
    "#### Get specifically the title and the source : "
   ]
  },
  {
   "cell_type": "code",
   "execution_count": 156,
   "metadata": {},
   "outputs": [
    {
     "name": "stdout",
     "output_type": "stream",
     "text": [
      "\n",
      "PREFIX estat: <https://ec.europa.eu/eurostat/resource/ontology/> \n",
      "PREFIX dct: <http://purl.org/dc/terms/>\n",
      "PREFIX skos: <http://www.w3.org/2004/02/skos/core#>\n",
      "SELECT * FROM <https://ec.europa.eu/eurostat/resource/ontology/>\n",
      "WHERE {\n",
      "{estat:1678 dct:source ?o }\n",
      "UNION {estat:1678 dct:title ?o \n",
      "}\n",
      "}\n",
      "\n",
      "\n",
      "(2, 1)\n",
      "https://ec.europa.eu/eurostat/statistics-explained/index.php?title=Glossary:Income_quintile_group\n",
      "Income quintile group\n"
     ]
    }
   ],
   "source": [
    "SelectStatement = \"\"\"\n",
    "PREFIX estat: <https://ec.europa.eu/eurostat/resource/ontology/> \n",
    "PREFIX dct: <http://purl.org/dc/terms/>\n",
    "PREFIX skos: <http://www.w3.org/2004/02/skos/core#>\n",
    "SELECT * FROM <https://ec.europa.eu/eurostat/resource/ontology/>\n",
    "WHERE {\n",
    "{estat:\"\"\" + str(random_entry) +\"\"\" dct:source ?o }\n",
    "UNION {estat:\"\"\" + str(random_entry) +\"\"\" dct:title ?o \n",
    "}\n",
    "}\n",
    "\n",
    "\"\"\"\n",
    "\n",
    "\n",
    "print(SelectStatement)\n",
    "statements_df = sparql_dataframe.get(endpoint, SelectStatement)\n",
    "print(statements_df.shape)\n",
    "statements_df.tail()\n",
    "print(statements_df.iloc[0,0])\n",
    "print(statements_df.iloc[1,0])"
   ]
  },
  {
   "cell_type": "markdown",
   "metadata": {},
   "source": [
    "## Query builder back-end : string matching"
   ]
  },
  {
   "cell_type": "markdown",
   "metadata": {},
   "source": [
    "Note that this matching step using the regex() function from SPARQL will be replaced by a more complex matching in the following version. This part of the notebook aims to present how matched elements are subsequently used for another query to the KDB."
   ]
  },
  {
   "cell_type": "code",
   "execution_count": 219,
   "metadata": {},
   "outputs": [],
   "source": [
    "query_element_1 = \"europe\"\n",
    "query_element_2 = \"school\""
   ]
  },
  {
   "cell_type": "code",
   "execution_count": 220,
   "metadata": {},
   "outputs": [
    {
     "name": "stdout",
     "output_type": "stream",
     "text": [
      "\n",
      "PREFIX dct: <http://purl.org/dc/terms/>\n",
      "PREFIX rdf: <http://www.w3.org/1999/02/22-rdf-syntax-ns#> \n",
      "PREFIX skos: <http://www.w3.org/2004/02/skos/core#>\n",
      "\n",
      "SELECT ?s FROM <https://ec.europa.eu/eurostat/resource/ontology/>\n",
      "WHERE {\n",
      "{ ?s dct:title ?o \n",
      "FILTER regex(?o, 'europe', \"i\")\n",
      "FILTER regex(?o, 'school', \"i\")\n",
      "}\n",
      "UNION { ?s dct:description ?o \n",
      "FILTER regex(?o, 'europe', \"i\")\n",
      "FILTER regex(?o, 'school', \"i\")\n",
      "}\n",
      "}\n",
      "\n",
      "(5, 1)\n"
     ]
    },
    {
     "data": {
      "text/html": [
       "<div>\n",
       "<style scoped>\n",
       "    .dataframe tbody tr th:only-of-type {\n",
       "        vertical-align: middle;\n",
       "    }\n",
       "\n",
       "    .dataframe tbody tr th {\n",
       "        vertical-align: top;\n",
       "    }\n",
       "\n",
       "    .dataframe thead th {\n",
       "        text-align: right;\n",
       "    }\n",
       "</style>\n",
       "<table border=\"1\" class=\"dataframe\">\n",
       "  <thead>\n",
       "    <tr style=\"text-align: right;\">\n",
       "      <th></th>\n",
       "      <th>s</th>\n",
       "    </tr>\n",
       "  </thead>\n",
       "  <tbody>\n",
       "    <tr>\n",
       "      <th>0</th>\n",
       "      <td>https://ec.europa.eu/eurostat/resource/ontolog...</td>\n",
       "    </tr>\n",
       "    <tr>\n",
       "      <th>1</th>\n",
       "      <td>https://ec.europa.eu/eurostat/resource/ontology/6</td>\n",
       "    </tr>\n",
       "    <tr>\n",
       "      <th>2</th>\n",
       "      <td>https://ec.europa.eu/eurostat/resource/ontolog...</td>\n",
       "    </tr>\n",
       "    <tr>\n",
       "      <th>3</th>\n",
       "      <td>https://ec.europa.eu/eurostat/resource/ontolog...</td>\n",
       "    </tr>\n",
       "    <tr>\n",
       "      <th>4</th>\n",
       "      <td>https://ec.europa.eu/eurostat/resource/ontolog...</td>\n",
       "    </tr>\n",
       "  </tbody>\n",
       "</table>\n",
       "</div>"
      ],
      "text/plain": [
       "                                                   s\n",
       "0  https://ec.europa.eu/eurostat/resource/ontolog...\n",
       "1  https://ec.europa.eu/eurostat/resource/ontology/6\n",
       "2  https://ec.europa.eu/eurostat/resource/ontolog...\n",
       "3  https://ec.europa.eu/eurostat/resource/ontolog...\n",
       "4  https://ec.europa.eu/eurostat/resource/ontolog..."
      ]
     },
     "execution_count": 220,
     "metadata": {},
     "output_type": "execute_result"
    }
   ],
   "source": [
    "SelectMatchedElements = \"\"\"\n",
    "PREFIX dct: <http://purl.org/dc/terms/>\n",
    "PREFIX rdf: <http://www.w3.org/1999/02/22-rdf-syntax-ns#> \n",
    "PREFIX skos: <http://www.w3.org/2004/02/skos/core#>\n",
    "\n",
    "SELECT ?s FROM <https://ec.europa.eu/eurostat/resource/ontology/>\n",
    "WHERE {\n",
    "{ ?s dct:title ?o \n",
    "FILTER regex(?o, '\"\"\" + str(query_element_1) +\"\"\"', \"i\")\n",
    "FILTER regex(?o, '\"\"\" + str(query_element_2) +\"\"\"', \"i\")\n",
    "}\n",
    "UNION { ?s dct:description ?o \n",
    "FILTER regex(?o, '\"\"\" + str(query_element_1) +\"\"\"', \"i\")\n",
    "FILTER regex(?o, '\"\"\" + str(query_element_2) +\"\"\"', \"i\")\n",
    "}\n",
    "}\n",
    "\"\"\"\n",
    "print(SelectMatchedElements)\n",
    "elements_df = sparql_dataframe.get(endpoint, SelectMatchedElements)\n",
    "print(elements_df.shape)\n",
    "elements_df.tail()\n"
   ]
  },
  {
   "cell_type": "code",
   "execution_count": 221,
   "metadata": {},
   "outputs": [
    {
     "name": "stdout",
     "output_type": "stream",
     "text": [
      "https://ec.europa.eu/eurostat/resource/ontology/6226\n"
     ]
    }
   ],
   "source": [
    "print(elements_df.iloc[0,0])"
   ]
  },
  {
   "cell_type": "markdown",
   "metadata": {},
   "source": [
    "#### Get title and source for each returned entry "
   ]
  },
  {
   "cell_type": "markdown",
   "metadata": {},
   "source": [
    "Every matched elements is queried by an individual SPARQL query. It is here in a simple version that will be completed to get not only the matched elements but related elements as well (datasets, articles, ...)"
   ]
  },
  {
   "cell_type": "code",
   "execution_count": 222,
   "metadata": {},
   "outputs": [
    {
     "name": "stdout",
     "output_type": "stream",
     "text": [
      "6226\n",
      "6\n",
      "783\n",
      "1303\n",
      "2249\n"
     ]
    }
   ],
   "source": [
    "query_results_df = pd.DataFrame(columns=['title',\"url\"])\n",
    "for i, row in elements_df.iterrows():\n",
    "\n",
    "        element = row[0]\n",
    "        element = element.replace(\"https://ec.europa.eu/eurostat/resource/ontology/\",\"\")\n",
    "        print(element)\n",
    "        SelectStatement = \"\"\"\n",
    "        PREFIX estat: <https://ec.europa.eu/eurostat/resource/ontology/> \n",
    "        PREFIX dct: <http://purl.org/dc/terms/>\n",
    "        PREFIX skos: <http://www.w3.org/2004/02/skos/core#>\n",
    "        SELECT * FROM <https://ec.europa.eu/eurostat/resource/ontology/>\n",
    "        WHERE {\n",
    "        {estat:\"\"\" + str(element) +\"\"\" dct:source ?o }\n",
    "        UNION {estat:\"\"\" + str(element) +\"\"\" dct:title ?o \n",
    "        }\n",
    "        }\n",
    "\n",
    "        \"\"\"\n",
    "        statements_df = sparql_dataframe.get(endpoint, SelectStatement)\n",
    "        query_results_df = query_results_df.append({'title': statements_df.iloc[1,0],'url': statements_df.iloc[0,0]},ignore_index=True)\n",
    "\n",
    "\n"
   ]
  },
  {
   "cell_type": "code",
   "execution_count": 223,
   "metadata": {},
   "outputs": [
    {
     "data": {
      "text/html": [
       "<div>\n",
       "<style scoped>\n",
       "    .dataframe tbody tr th:only-of-type {\n",
       "        vertical-align: middle;\n",
       "    }\n",
       "\n",
       "    .dataframe tbody tr th {\n",
       "        vertical-align: top;\n",
       "    }\n",
       "\n",
       "    .dataframe thead th {\n",
       "        text-align: right;\n",
       "    }\n",
       "</style>\n",
       "<table border=\"1\" class=\"dataframe\">\n",
       "  <thead>\n",
       "    <tr style=\"text-align: right;\">\n",
       "      <th></th>\n",
       "      <th>title</th>\n",
       "      <th>url</th>\n",
       "    </tr>\n",
       "  </thead>\n",
       "  <tbody>\n",
       "    <tr>\n",
       "      <th>0</th>\n",
       "      <td>Key data on teaching languages at school in Eu...</td>\n",
       "      <td>http://ec.europa.eu/eurostat/product?code=EC-X...</td>\n",
       "    </tr>\n",
       "    <tr>\n",
       "      <th>1</th>\n",
       "      <td>Accident at work</td>\n",
       "      <td>https://ec.europa.eu/eurostat/statistics-expla...</td>\n",
       "    </tr>\n",
       "    <tr>\n",
       "      <th>2</th>\n",
       "      <td>Agricultural holding</td>\n",
       "      <td>https://ec.europa.eu/eurostat/statistics-expla...</td>\n",
       "    </tr>\n",
       "    <tr>\n",
       "      <th>3</th>\n",
       "      <td>Kitchen gardens</td>\n",
       "      <td>https://ec.europa.eu/eurostat/statistics-expla...</td>\n",
       "    </tr>\n",
       "    <tr>\n",
       "      <th>4</th>\n",
       "      <td>Barcelona Summit</td>\n",
       "      <td>https://ec.europa.eu/eurostat/statistics-expla...</td>\n",
       "    </tr>\n",
       "  </tbody>\n",
       "</table>\n",
       "</div>"
      ],
      "text/plain": [
       "                                               title  \\\n",
       "0  Key data on teaching languages at school in Eu...   \n",
       "1                                   Accident at work   \n",
       "2                               Agricultural holding   \n",
       "3                                    Kitchen gardens   \n",
       "4                                   Barcelona Summit   \n",
       "\n",
       "                                                 url  \n",
       "0  http://ec.europa.eu/eurostat/product?code=EC-X...  \n",
       "1  https://ec.europa.eu/eurostat/statistics-expla...  \n",
       "2  https://ec.europa.eu/eurostat/statistics-expla...  \n",
       "3  https://ec.europa.eu/eurostat/statistics-expla...  \n",
       "4  https://ec.europa.eu/eurostat/statistics-expla...  "
      ]
     },
     "execution_count": 223,
     "metadata": {},
     "output_type": "execute_result"
    }
   ],
   "source": [
    "query_results_df"
   ]
  }
 ],
 "metadata": {
  "kernelspec": {
   "display_name": "Python 3",
   "language": "python",
   "name": "python3"
  },
  "language_info": {
   "codemirror_mode": {
    "name": "ipython",
    "version": 3
   },
   "file_extension": ".py",
   "mimetype": "text/x-python",
   "name": "python",
   "nbconvert_exporter": "python",
   "pygments_lexer": "ipython3",
   "version": "3.8.3"
  }
 },
 "nbformat": 4,
 "nbformat_minor": 4
}
