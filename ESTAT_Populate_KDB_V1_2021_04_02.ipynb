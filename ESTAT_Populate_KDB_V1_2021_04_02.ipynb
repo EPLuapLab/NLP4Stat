{
 "cells": [
  {
   "cell_type": "markdown",
   "metadata": {},
   "source": [
    "# Population of the Knowledge database by elements of the Content database"
   ]
  },
  {
   "cell_type": "markdown",
   "metadata": {},
   "source": [
    "This code is divided as follows :\n",
    "1) Connection and import of data stored in the Content DB\n",
    "2) Population of the Knowledge DB"
   ]
  },
  {
   "cell_type": "markdown",
   "metadata": {},
   "source": [
    "2021-04-02"
   ]
  },
  {
   "cell_type": "markdown",
   "metadata": {},
   "source": [
    "## 1) Connection and import of data stored in the Content DB"
   ]
  },
  {
   "cell_type": "markdown",
   "metadata": {},
   "source": [
    "### Import librairies"
   ]
  },
  {
   "cell_type": "code",
   "execution_count": 4,
   "metadata": {},
   "outputs": [],
   "source": [
    "import os \n",
    "import re\n",
    "import logging\n",
    "import sys\n",
    "import pyodbc\n",
    "import hashlib\n",
    "import pandas as pd\n",
    "from datetime import datetime\n",
    "from SPARQLWrapper import SPARQLWrapper, POST, DIGEST, GET\n",
    "from SPARQLWrapper import JSON, INSERT, DELETE\n",
    "import sparql_dataframe"
   ]
  },
  {
   "cell_type": "markdown",
   "metadata": {},
   "source": [
    "### Connect to the Content database and to the SPARQL endpoint of the Knowledge database"
   ]
  },
  {
   "cell_type": "code",
   "execution_count": 5,
   "metadata": {},
   "outputs": [],
   "source": [
    "def connect_db(DSN, DBA, UID, PWD):\n",
    "\n",
    "    connection = pyodbc.connect('DSN={};DBA={};UID={};PWD={}'.format(DSN, \n",
    "                                                                     DBA,\n",
    "                                                                     UID,\n",
    "                                                                     PWD))\n",
    "    cursor = connection.cursor()\n",
    "\n",
    "    return connection, cursor\n",
    "\n",
    "\n",
    "def connect_virtuoso(DSN, UID, PWD):\n",
    "\n",
    "    sparql = SPARQLWrapper(DSN)\n",
    "    sparql.setHTTPAuth(DIGEST)\n",
    "    sparql.setCredentials(UID, PWD)\n",
    "    sparql.setMethod(GET)\n",
    "\n",
    "    return sparql\n"
   ]
  },
  {
   "cell_type": "markdown",
   "metadata": {},
   "source": [
    "\"LOGIN\" and \"PASSWORD\" should be replaced by your own access"
   ]
  },
  {
   "cell_type": "code",
   "execution_count": null,
   "metadata": {},
   "outputs": [],
   "source": [
    "# Connection to CDB \n",
    "connection, cursor = connect_db('VirtuosoKapcode', \n",
    "                                'ESTAT', \n",
    "                                'LOGIN', \n",
    "                                'PASSWORD')\n",
    "# Connection to the KDB \n",
    "endpoint = \"http://ks-devapp.ad.kappasante.lan:8890/sparql/\"\n",
    "sparql = connect_virtuoso(endpoint, \n",
    "                          'LOGIN', \n",
    "                          'PASSWORD')\n"
   ]
  },
  {
   "cell_type": "markdown",
   "metadata": {},
   "source": [
    "### Define SQL queries to get content "
   ]
  },
  {
   "cell_type": "code",
   "execution_count": null,
   "metadata": {},
   "outputs": [],
   "source": [
    "def select_query(columns, table, conditions=None): \n",
    "\n",
    "    if conditions:\n",
    "\n",
    "        query = \"\"\"\n",
    "            SELECT {}\n",
    "            FROM {}\n",
    "            WHERE {}\n",
    "\n",
    "        \"\"\".format(columns, table, conditions)\n",
    "\n",
    "    else:\n",
    "\n",
    "        query = \"\"\"\n",
    "\n",
    "        SELECT {}\n",
    "        FROM {}\n",
    "        \"\"\".format(columns, table)\n",
    "\n",
    "    return query\n"
   ]
  },
  {
   "cell_type": "markdown",
   "metadata": {},
   "source": [
    "### Apply the SQL queries "
   ]
  },
  {
   "cell_type": "code",
   "execution_count": null,
   "metadata": {},
   "outputs": [],
   "source": [
    "# Get all elements from all tables :\n",
    "eurostat_links = pd.read_sql(select_query('*',\n",
    "                                          'dat_link_info', \n",
    "                                          'eurostat = 1'), \n",
    "                             connection)\n",
    "foreign_links = pd.read_sql(select_query('*', \n",
    "                                         'dat_link_info', \n",
    "                                         'eurostat = 0'), \n",
    "                            connection)\n",
    "concepts = pd.read_sql(select_query('*', \n",
    "                                    'dat_concept'), \n",
    "                       connection)\n",
    "furtherinfo = pd.read_sql(select_query('*', \n",
    "                                       'dat_further_info'),\n",
    "                          connection)\n",
    "relatedconcepts = pd.read_sql(select_query('*', \n",
    "                                           'dat_related_concepts'),\n",
    "                              connection)\n",
    "statisticaldata = pd.read_sql(select_query('*', \n",
    "                                           'dat_statistical_data'),\n",
    "                              connection)\n",
    "sources = pd.read_sql(select_query('*',\n",
    "                                   'dat_sources'),\n",
    "                      connection)\n"
   ]
  },
  {
   "cell_type": "markdown",
   "metadata": {},
   "source": [
    "## 2) Population of the Knowledge DB"
   ]
  },
  {
   "cell_type": "markdown",
   "metadata": {},
   "source": [
    "### Define SPARQL queries from the previously loaded content to populate the KDB"
   ]
  },
  {
   "cell_type": "code",
   "execution_count": null,
   "metadata": {},
   "outputs": [],
   "source": [
    "def insert_basic_query(DB, method):  # works for eurostat links, foreign links\n",
    "\n",
    "    for i, row in DB.iterrows():\n",
    "        id_ = row[0]\n",
    "        title_ = row[1].replace(\"'\", \"\")\n",
    "        url_ = row[2]\n",
    "        eurostat_ = row[3]\n",
    "\n",
    "        query_insert_P = \"\"\"\n",
    "\n",
    "        PREFIX rdf: <http://www.w3.org/1999/02/22-rdf-syntax-ns#> \n",
    "        PREFIX estat: <http://ks-devapp.ad.kappasante.lan:8890/EStat#> \n",
    "        PREFIX dct: <http://purl.org/dc/terms/>\n",
    "\n",
    "        INSERT { GRAPH <http://ks-devapp.ad.kappasante.lan:8890/EStat#> { \n",
    "\n",
    "           estat:\"\"\" + str(id_) + \"\"\" rdf:about '\"\"\" + str(id_) + \"\"\"'.\n",
    "           estat:\"\"\" + str(id_) + \"\"\" dct:source '\"\"\" + str(url_) + \"\"\"'. \n",
    "           estat:\"\"\" + str(id_) + \"\"\" dct:title '\"\"\" + str(title_) + \"\"\"'. \n",
    "           estat:\"\"\" + str(id_) + \"\"\" estat:EurostatResource '\"\"\" + str(eurostat_) + \"\"\"'. \n",
    "\n",
    "        } }\n",
    "        ;\n",
    "        \"\"\"\n",
    "\n",
    "        sparql.setQuery(query_insert_P)\n",
    "        sparql.method = method\n",
    "        sparql.setReturnFormat(JSON)\n",
    "        results = sparql.query().response.read()\n",
    "\n",
    "\n",
    "def insert_queries(DB, classe, method): \n",
    "\n",
    "    threshold = len(DB.columns)\n",
    "    if threshold == 5:  # concept table\n",
    "\n",
    "        for i, row in DB.iterrows():\n",
    "\n",
    "            id_ = row[0]\n",
    "            def_ = row[1]\n",
    "            redirection_ = row[2]\n",
    "            homepage_ = row[3]\n",
    "            # last_update_ = str(row[4])\n",
    "\n",
    "            # Get info from the eurostat_links\n",
    "            url_ = eurostat_links[eurostat_links['id'] == id_].url.item()\n",
    "            title_ = eurostat_links[eurostat_links['id'] == id_].title.item()\n",
    "\n",
    "            # Construct the query \n",
    "            query = \"\"\"\n",
    "\n",
    "                PREFIX estat: <http://ks-devapp.ad.kappasante.lan:8890/EStat#> \n",
    "                PREFIX skos: <http://www.w3.org/2004/02/skos/core#>\n",
    "\n",
    "                INSERT { GRAPH <http://ks-devapp.ad.kappasante.lan:8890/EStat#> { \n",
    "\n",
    "                   estat:\"\"\" + str(id_) + \"\"\" skos:concept '\"\"\" + str(id_) + \"\"\"'.\n",
    "                   estat:\"\"\" + str(id_) + \"\"\" skos:definition '\"\"\" + str(def_) + \"\"\"'. \n",
    "                   estat:\"\"\" + str(id_) + \"\"\" estat:isRedirectedTo '\"\"\" + str(redirection_) + \"\"\"'. \n",
    "                   estat:\"\"\" + str(id_) + \"\"\" estat:linkToResource '\"\"\" + str(url_) + \"\"\"'. \n",
    "                   estat:\"\"\" + str(id_) + \"\"\" skos:prefLabel '\"\"\" + str(title_) + \"\"\"'. \n",
    "                   \n",
    "        } }\n",
    "        ;\n",
    "                \"\"\"\n",
    "\n",
    "    elif threshold == 3:  # links, related concept, statistical data and source\n",
    "\n",
    "        for i, row in DB.iterrows():\n",
    "\n",
    "            id_ = row[0]\n",
    "            concept_id_ = row[1]\n",
    "            link_id_ = row[2]\n",
    "\n",
    "            # Construct the query \n",
    "            query = \"\"\"\n",
    "\n",
    "                PREFIX estat: <http://ks-devapp.ad.kappasante.lan:8890/EStat#> \n",
    "                PREFIX skos: <http://www.w3.org/2004/02/skos/core#>\n",
    "\n",
    "                INSERT { GRAPH <http://ks-devapp.ad.kappasante.lan:8890/EStat#> { \n",
    "\n",
    "                   estat:\"\"\" + str(concept_id_) + ' ' + classe + \"\"\" '\"\"\" + str(link_id_) + \"\"\"'. \n",
    "\n",
    "                } }\n",
    "                ;\n",
    "            \"\"\"\n",
    "\n",
    "    sparql.setQuery(query)\n",
    "    sparql.method = method\n",
    "    sparql.setReturnFormat(JSON)\n",
    "    results = sparql.query().response.read()\n"
   ]
  },
  {
   "cell_type": "markdown",
   "metadata": {},
   "source": [
    "### Populate the KDB"
   ]
  },
  {
   "cell_type": "code",
   "execution_count": null,
   "metadata": {},
   "outputs": [],
   "source": [
    "# Populate\n",
    "insert_basic_query(eurostat_links, \"POST\")\n",
    "insert_basic_query(foreign_links, \"POST\")\n",
    "insert_queries(concepts, '', \"POST\")\n",
    "insert_queries(furtherinfo, 'estat:furtherInformation', \"POST\")\n",
    "insert_queries(relatedconcepts, 'skos:related', 'POST')\n",
    "insert_queries(statisticaldata, 'estat:statisticalInformation', 'POST')\n",
    "insert_queries(sources, 'estat:sourceInformation', 'POST')"
   ]
  },
  {
   "cell_type": "markdown",
   "metadata": {},
   "source": [
    "### See added statements "
   ]
  },
  {
   "cell_type": "code",
   "execution_count": 11,
   "metadata": {},
   "outputs": [],
   "source": [
    "\n",
    "SelectAllStatements = \"\"\"\n",
    "SELECT * FROM <http://ks-devapp.ad.kappasante.lan:8890/EStat#>\n",
    "WHERE { ?s ?p ?o\n",
    "\n",
    "}\n",
    "\"\"\"\n",
    "\n",
    "statements_df = sparql_dataframe.get(endpoint, SelectAllStatements)\n",
    "print(statements_df.shape)\n",
    "print(statements_df.tail())\n"
   ]
  }
 ],
 "metadata": {
  "kernelspec": {
   "display_name": "Python 3",
   "language": "python",
   "name": "python3"
  },
  "language_info": {
   "codemirror_mode": {
    "name": "ipython",
    "version": 3
   },
   "file_extension": ".py",
   "mimetype": "text/x-python",
   "name": "python",
   "nbconvert_exporter": "python",
   "pygments_lexer": "ipython3",
   "version": "3.8.3"
  }
 },
 "nbformat": 4,
 "nbformat_minor": 4
}
